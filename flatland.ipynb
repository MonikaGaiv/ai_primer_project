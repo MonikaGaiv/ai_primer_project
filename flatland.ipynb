{
  "nbformat": 4,
  "nbformat_minor": 0,
  "metadata": {
    "kernelspec": {
      "display_name": "Python 3",
      "language": "python",
      "name": "python3"
    },
    "language_info": {
      "codemirror_mode": {
        "name": "ipython",
        "version": 3
      },
      "file_extension": ".py",
      "mimetype": "text/x-python",
      "name": "python",
      "nbconvert_exporter": "python",
      "pygments_lexer": "ipython3",
      "version": "3.8.6"
    },
    "colab": {
      "name": "flatland.ipynb",
      "provenance": [],
      "collapsed_sections": []
    },
    "accelerator": "GPU"
  },
  "cells": [
    {
      "cell_type": "code",
      "metadata": {
        "id": "ktmnGl34XYPr"
      },
      "source": [
        "\n",
        "\n",
        "import pandas as pd\n",
        "import matplotlib.pyplot as plt\n",
        "import tensorflow.keras as keras\n",
        "from tensorflow.keras.layers import Dense, Input, Flatten, Conv2D, BatchNormalization, \\\n",
        "                                    Activation, Dropout, MaxPooling2D\n",
        "from tensorflow.keras.models import Sequential\n",
        " "
      ],
      "execution_count": 12,
      "outputs": []
    },
    {
      "cell_type": "code",
      "metadata": {
        "id": "5fn6uh0dXYPs"
      },
      "source": [
        "import gzip\n",
        "import pickle\n",
        "\n",
        "X, y = pickle.load(gzip.open('/content/flatland_train.data', 'rb'))\n",
        "y[y != 0] -= 2\n",
        "\n",
        "X = X.reshape(X.shape[0], 50, 50, 1) / 255\n"
      ],
      "execution_count": 13,
      "outputs": []
    },
    {
      "cell_type": "code",
      "metadata": {
        "colab": {
          "base_uri": "https://localhost:8080/"
        },
        "id": "_18IKHiJF1_k",
        "outputId": "1fc58778-67d5-4975-8597-ae19d7e5f2f9"
      },
      "source": [
        "\n",
        "model = keras.models.Sequential()\n",
        "model.add(Conv2D(32, kernel_size=(3, 3), activation='relu', input_shape=[50, 50, 1]))\n",
        "model.add(BatchNormalization(axis=-1))   # Axis -1 is always the features axis\n",
        "model.add(Activation(\"relu\"))\n",
        "model.add(Conv2D(32, kernel_size=(3, 3), activation='relu'))\n",
        "model.add(BatchNormalization(axis=-1))\n",
        "model.add(MaxPooling2D(pool_size=(2, 2)))\n",
        "model.add(Conv2D(32, kernel_size=(2, 2), activation='relu'))\n",
        "model.add(MaxPooling2D(pool_size=(2, 2)))\n",
        "model.add(Flatten())\n",
        "model.add(Dense(128, activation=\"relu\"))\n",
        "model.add(Dropout(0.2))\n",
        "model.add(Dense(5, activation=\"softmax\"))\n",
        "\n",
        "model.compile(loss=\"sparse_categorical_crossentropy\",\n",
        "              optimizer=\"sgd\",\n",
        "              metrics=[\"accuracy\"])\n",
        "model.summary()"
      ],
      "execution_count": 14,
      "outputs": [
        {
          "output_type": "stream",
          "text": [
            "Model: \"sequential_2\"\n",
            "_________________________________________________________________\n",
            "Layer (type)                 Output Shape              Param #   \n",
            "=================================================================\n",
            "conv2d_6 (Conv2D)            (None, 48, 48, 32)        320       \n",
            "_________________________________________________________________\n",
            "batch_normalization_4 (Batch (None, 48, 48, 32)        128       \n",
            "_________________________________________________________________\n",
            "activation_2 (Activation)    (None, 48, 48, 32)        0         \n",
            "_________________________________________________________________\n",
            "conv2d_7 (Conv2D)            (None, 46, 46, 32)        9248      \n",
            "_________________________________________________________________\n",
            "batch_normalization_5 (Batch (None, 46, 46, 32)        128       \n",
            "_________________________________________________________________\n",
            "max_pooling2d_4 (MaxPooling2 (None, 23, 23, 32)        0         \n",
            "_________________________________________________________________\n",
            "conv2d_8 (Conv2D)            (None, 22, 22, 32)        4128      \n",
            "_________________________________________________________________\n",
            "max_pooling2d_5 (MaxPooling2 (None, 11, 11, 32)        0         \n",
            "_________________________________________________________________\n",
            "flatten_2 (Flatten)          (None, 3872)              0         \n",
            "_________________________________________________________________\n",
            "dense_4 (Dense)              (None, 128)               495744    \n",
            "_________________________________________________________________\n",
            "dropout_2 (Dropout)          (None, 128)               0         \n",
            "_________________________________________________________________\n",
            "dense_5 (Dense)              (None, 5)                 645       \n",
            "=================================================================\n",
            "Total params: 510,341\n",
            "Trainable params: 510,213\n",
            "Non-trainable params: 128\n",
            "_________________________________________________________________\n"
          ],
          "name": "stdout"
        }
      ]
    },
    {
      "cell_type": "code",
      "metadata": {
        "colab": {
          "base_uri": "https://localhost:8080/"
        },
        "id": "Gi-qbmNCXYPu",
        "outputId": "ac824c76-7a4e-4255-ba63-1692eef29355"
      },
      "source": [
        "loss = model.fit(X, y, epochs=10, validation_split=0.1)"
      ],
      "execution_count": 15,
      "outputs": [
        {
          "output_type": "stream",
          "text": [
            "Epoch 1/10\n",
            "282/282 [==============================] - 2s 7ms/step - loss: 1.2746 - accuracy: 0.4720 - val_loss: 1.5722 - val_accuracy: 0.1850\n",
            "Epoch 2/10\n",
            "282/282 [==============================] - 2s 6ms/step - loss: 0.6674 - accuracy: 0.7262 - val_loss: 0.9832 - val_accuracy: 0.5830\n",
            "Epoch 3/10\n",
            "282/282 [==============================] - 2s 6ms/step - loss: 0.3691 - accuracy: 0.8587 - val_loss: 0.3319 - val_accuracy: 0.8760\n",
            "Epoch 4/10\n",
            "282/282 [==============================] - 2s 6ms/step - loss: 0.2140 - accuracy: 0.9254 - val_loss: 0.1923 - val_accuracy: 0.9470\n",
            "Epoch 5/10\n",
            "282/282 [==============================] - 2s 6ms/step - loss: 0.1229 - accuracy: 0.9607 - val_loss: 0.1545 - val_accuracy: 0.9340\n",
            "Epoch 6/10\n",
            "282/282 [==============================] - 2s 6ms/step - loss: 0.0752 - accuracy: 0.9788 - val_loss: 0.0783 - val_accuracy: 0.9740\n",
            "Epoch 7/10\n",
            "282/282 [==============================] - 2s 6ms/step - loss: 0.0561 - accuracy: 0.9838 - val_loss: 0.0800 - val_accuracy: 0.9780\n",
            "Epoch 8/10\n",
            "282/282 [==============================] - 2s 6ms/step - loss: 0.0403 - accuracy: 0.9891 - val_loss: 0.0476 - val_accuracy: 0.9870\n",
            "Epoch 9/10\n",
            "282/282 [==============================] - 2s 6ms/step - loss: 0.0352 - accuracy: 0.9897 - val_loss: 0.0401 - val_accuracy: 0.9910\n",
            "Epoch 10/10\n",
            "282/282 [==============================] - 2s 6ms/step - loss: 0.0288 - accuracy: 0.9932 - val_loss: 0.0524 - val_accuracy: 0.9860\n"
          ],
          "name": "stdout"
        }
      ]
    },
    {
      "cell_type": "code",
      "metadata": {
        "colab": {
          "base_uri": "https://localhost:8080/",
          "height": 282
        },
        "id": "QFsntbQfXYPu",
        "outputId": "559940a2-e2f8-46ea-cc75-ef9b13b41fdb"
      },
      "source": [
        "pd.DataFrame(loss.history).plot()\n"
      ],
      "execution_count": 16,
      "outputs": [
        {
          "output_type": "execute_result",
          "data": {
            "text/plain": [
              "<matplotlib.axes._subplots.AxesSubplot at 0x7f8ce0053f60>"
            ]
          },
          "metadata": {
            "tags": []
          },
          "execution_count": 16
        },
        {
          "output_type": "display_data",
          "data": {
            "image/png": "[encoded data removed]",
            "text/plain": [
              "<Figure size 432x288 with 1 Axes>"
            ]
          },
          "metadata": {
            "tags": [],
            "needs_background": "light"
          }
        }
      ]
    },
    {
      "cell_type": "code",
      "metadata": {
        "colab": {
          "base_uri": "https://localhost:8080/",
          "height": 282
        },
        "id": "1nDgOVy5XYPv",
        "outputId": "8f80a437-e89e-41b7-f0f3-a568aed7c654"
      },
      "source": [
        "pd.DataFrame(loss.history)[['loss','val_loss']].plot()"
      ],
      "execution_count": 17,
      "outputs": [
        {
          "output_type": "execute_result",
          "data": {
            "text/plain": [
              "<matplotlib.axes._subplots.AxesSubplot at 0x7f8cd81447f0>"
            ]
          },
          "metadata": {
            "tags": []
          },
          "execution_count": 17
        },
        {
          "output_type": "display_data",
          "data": {
            "image/png": "[encoded data removed]",
            "text/plain": [
              "<Figure size 432x288 with 1 Axes>"
            ]
          },
          "metadata": {
            "tags": [],
            "needs_background": "light"
          }
        }
      ]
    },
    {
      "cell_type": "code",
      "metadata": {
        "colab": {
          "base_uri": "https://localhost:8080/"
        },
        "id": "i6e52vwQXYPv",
        "outputId": "5a7f51e2-3ffb-4a8f-c300-0d529eddafb4"
      },
      "source": [
        "pred = model.predict(X).argmax(axis=1)\n",
        "print('Accuracy on test set - {0:.02%}'.format((pred == y).mean()))"
      ],
      "execution_count": 11,
      "outputs": [
        {
          "output_type": "stream",
          "text": [
            "Accuracy on test set - 99.22%\n"
          ],
          "name": "stdout"
        }
      ]
    }
  ]
}